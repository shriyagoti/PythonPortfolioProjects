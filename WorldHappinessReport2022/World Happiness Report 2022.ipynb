{
 "cells": [
  {
   "cell_type": "code",
   "execution_count": 67,
   "id": "ec3d23c0",
   "metadata": {},
   "outputs": [],
   "source": [
    "import pandas as pd\n",
    "import numpy as np\n",
    "import seaborn as sns"
   ]
  },
  {
   "cell_type": "markdown",
   "id": "4daa7823",
   "metadata": {},
   "source": [
    "# Reading the data"
   ]
  },
  {
   "cell_type": "code",
   "execution_count": 68,
   "id": "5f997f06",
   "metadata": {},
   "outputs": [],
   "source": [
    "data = pd.read_csv(r'C:\\Users\\gotim\\OneDrive\\Desktop\\Python Portfolio\\data\\2022.csv')"
   ]
  },
  {
   "cell_type": "code",
   "execution_count": 69,
   "id": "c8b0de0b",
   "metadata": {},
   "outputs": [
    {
     "data": {
      "text/html": [
       "<div>\n",
       "<style scoped>\n",
       "    .dataframe tbody tr th:only-of-type {\n",
       "        vertical-align: middle;\n",
       "    }\n",
       "\n",
       "    .dataframe tbody tr th {\n",
       "        vertical-align: top;\n",
       "    }\n",
       "\n",
       "    .dataframe thead th {\n",
       "        text-align: right;\n",
       "    }\n",
       "</style>\n",
       "<table border=\"1\" class=\"dataframe\">\n",
       "  <thead>\n",
       "    <tr style=\"text-align: right;\">\n",
       "      <th></th>\n",
       "      <th>Country</th>\n",
       "      <th>Happiness score</th>\n",
       "      <th>Explained by: GDP per capita</th>\n",
       "      <th>Explained by: Social support</th>\n",
       "      <th>Explained by: Healthy life expectancy</th>\n",
       "      <th>Explained by: Freedom to make life choices</th>\n",
       "      <th>Explained by: Generosity</th>\n",
       "      <th>Explained by: Perceptions of corruption</th>\n",
       "    </tr>\n",
       "  </thead>\n",
       "  <tbody>\n",
       "    <tr>\n",
       "      <th>0</th>\n",
       "      <td>Finland</td>\n",
       "      <td>7,821</td>\n",
       "      <td>1,892</td>\n",
       "      <td>1,258</td>\n",
       "      <td>0,775</td>\n",
       "      <td>0,736</td>\n",
       "      <td>0,109</td>\n",
       "      <td>0,534</td>\n",
       "    </tr>\n",
       "    <tr>\n",
       "      <th>1</th>\n",
       "      <td>Denmark</td>\n",
       "      <td>7,636</td>\n",
       "      <td>1,953</td>\n",
       "      <td>1,243</td>\n",
       "      <td>0,777</td>\n",
       "      <td>0,719</td>\n",
       "      <td>0,188</td>\n",
       "      <td>0,532</td>\n",
       "    </tr>\n",
       "    <tr>\n",
       "      <th>2</th>\n",
       "      <td>Iceland</td>\n",
       "      <td>7,557</td>\n",
       "      <td>1,936</td>\n",
       "      <td>1,320</td>\n",
       "      <td>0,803</td>\n",
       "      <td>0,718</td>\n",
       "      <td>0,270</td>\n",
       "      <td>0,191</td>\n",
       "    </tr>\n",
       "    <tr>\n",
       "      <th>3</th>\n",
       "      <td>Switzerland</td>\n",
       "      <td>7,512</td>\n",
       "      <td>2,026</td>\n",
       "      <td>1,226</td>\n",
       "      <td>0,822</td>\n",
       "      <td>0,677</td>\n",
       "      <td>0,147</td>\n",
       "      <td>0,461</td>\n",
       "    </tr>\n",
       "    <tr>\n",
       "      <th>4</th>\n",
       "      <td>Netherlands</td>\n",
       "      <td>7,415</td>\n",
       "      <td>1,945</td>\n",
       "      <td>1,206</td>\n",
       "      <td>0,787</td>\n",
       "      <td>0,651</td>\n",
       "      <td>0,271</td>\n",
       "      <td>0,419</td>\n",
       "    </tr>\n",
       "    <tr>\n",
       "      <th>...</th>\n",
       "      <td>...</td>\n",
       "      <td>...</td>\n",
       "      <td>...</td>\n",
       "      <td>...</td>\n",
       "      <td>...</td>\n",
       "      <td>...</td>\n",
       "      <td>...</td>\n",
       "      <td>...</td>\n",
       "    </tr>\n",
       "    <tr>\n",
       "      <th>142</th>\n",
       "      <td>Rwanda*</td>\n",
       "      <td>3,268</td>\n",
       "      <td>0,785</td>\n",
       "      <td>0,133</td>\n",
       "      <td>0,462</td>\n",
       "      <td>0,621</td>\n",
       "      <td>0,187</td>\n",
       "      <td>0,544</td>\n",
       "    </tr>\n",
       "    <tr>\n",
       "      <th>143</th>\n",
       "      <td>Zimbabwe</td>\n",
       "      <td>2,995</td>\n",
       "      <td>0,947</td>\n",
       "      <td>0,690</td>\n",
       "      <td>0,270</td>\n",
       "      <td>0,329</td>\n",
       "      <td>0,106</td>\n",
       "      <td>0,105</td>\n",
       "    </tr>\n",
       "    <tr>\n",
       "      <th>144</th>\n",
       "      <td>Lebanon</td>\n",
       "      <td>2,955</td>\n",
       "      <td>1,392</td>\n",
       "      <td>0,498</td>\n",
       "      <td>0,631</td>\n",
       "      <td>0,103</td>\n",
       "      <td>0,082</td>\n",
       "      <td>0,034</td>\n",
       "    </tr>\n",
       "    <tr>\n",
       "      <th>145</th>\n",
       "      <td>Afghanistan</td>\n",
       "      <td>2,404</td>\n",
       "      <td>0,758</td>\n",
       "      <td>0,000</td>\n",
       "      <td>0,289</td>\n",
       "      <td>0,000</td>\n",
       "      <td>0,089</td>\n",
       "      <td>0,005</td>\n",
       "    </tr>\n",
       "    <tr>\n",
       "      <th>146</th>\n",
       "      <td>xx</td>\n",
       "      <td>NaN</td>\n",
       "      <td>NaN</td>\n",
       "      <td>NaN</td>\n",
       "      <td>NaN</td>\n",
       "      <td>NaN</td>\n",
       "      <td>NaN</td>\n",
       "      <td>NaN</td>\n",
       "    </tr>\n",
       "  </tbody>\n",
       "</table>\n",
       "<p>147 rows × 8 columns</p>\n",
       "</div>"
      ],
      "text/plain": [
       "         Country Happiness score Explained by: GDP per capita  \\\n",
       "0        Finland           7,821                        1,892   \n",
       "1        Denmark           7,636                        1,953   \n",
       "2        Iceland           7,557                        1,936   \n",
       "3    Switzerland           7,512                        2,026   \n",
       "4    Netherlands           7,415                        1,945   \n",
       "..           ...             ...                          ...   \n",
       "142      Rwanda*           3,268                        0,785   \n",
       "143     Zimbabwe           2,995                        0,947   \n",
       "144      Lebanon           2,955                        1,392   \n",
       "145  Afghanistan           2,404                        0,758   \n",
       "146           xx             NaN                          NaN   \n",
       "\n",
       "    Explained by: Social support Explained by: Healthy life expectancy  \\\n",
       "0                          1,258                                 0,775   \n",
       "1                          1,243                                 0,777   \n",
       "2                          1,320                                 0,803   \n",
       "3                          1,226                                 0,822   \n",
       "4                          1,206                                 0,787   \n",
       "..                           ...                                   ...   \n",
       "142                        0,133                                 0,462   \n",
       "143                        0,690                                 0,270   \n",
       "144                        0,498                                 0,631   \n",
       "145                        0,000                                 0,289   \n",
       "146                          NaN                                   NaN   \n",
       "\n",
       "    Explained by: Freedom to make life choices Explained by: Generosity  \\\n",
       "0                                        0,736                    0,109   \n",
       "1                                        0,719                    0,188   \n",
       "2                                        0,718                    0,270   \n",
       "3                                        0,677                    0,147   \n",
       "4                                        0,651                    0,271   \n",
       "..                                         ...                      ...   \n",
       "142                                      0,621                    0,187   \n",
       "143                                      0,329                    0,106   \n",
       "144                                      0,103                    0,082   \n",
       "145                                      0,000                    0,089   \n",
       "146                                        NaN                      NaN   \n",
       "\n",
       "    Explained by: Perceptions of corruption  \n",
       "0                                     0,534  \n",
       "1                                     0,532  \n",
       "2                                     0,191  \n",
       "3                                     0,461  \n",
       "4                                     0,419  \n",
       "..                                      ...  \n",
       "142                                   0,544  \n",
       "143                                   0,105  \n",
       "144                                   0,034  \n",
       "145                                   0,005  \n",
       "146                                     NaN  \n",
       "\n",
       "[147 rows x 8 columns]"
      ]
     },
     "execution_count": 69,
     "metadata": {},
     "output_type": "execute_result"
    }
   ],
   "source": [
    "data"
   ]
  },
  {
   "cell_type": "markdown",
   "id": "17d8a170",
   "metadata": {},
   "source": [
    "# Exploratory Data Analysis and Data Wrangling"
   ]
  },
  {
   "cell_type": "code",
   "execution_count": 70,
   "id": "cd0142d8",
   "metadata": {},
   "outputs": [
    {
     "data": {
      "text/plain": [
       "Index(['Country', 'Happiness score', 'Explained by: GDP per capita',\n",
       "       'Explained by: Social support', 'Explained by: Healthy life expectancy',\n",
       "       'Explained by: Freedom to make life choices',\n",
       "       'Explained by: Generosity', 'Explained by: Perceptions of corruption'],\n",
       "      dtype='object')"
      ]
     },
     "execution_count": 70,
     "metadata": {},
     "output_type": "execute_result"
    }
   ],
   "source": [
    "data.columns"
   ]
  },
  {
   "cell_type": "markdown",
   "id": "92e21559",
   "metadata": {},
   "source": [
    "## Are there any Null Values?"
   ]
  },
  {
   "cell_type": "code",
   "execution_count": 71,
   "id": "a95e4db3",
   "metadata": {},
   "outputs": [
    {
     "data": {
      "text/plain": [
       "Country                                       0\n",
       "Happiness score                               1\n",
       "Explained by: GDP per capita                  1\n",
       "Explained by: Social support                  1\n",
       "Explained by: Healthy life expectancy         1\n",
       "Explained by: Freedom to make life choices    1\n",
       "Explained by: Generosity                      1\n",
       "Explained by: Perceptions of corruption       1\n",
       "dtype: int64"
      ]
     },
     "execution_count": 71,
     "metadata": {},
     "output_type": "execute_result"
    }
   ],
   "source": [
    "data.isnull().sum()"
   ]
  },
  {
   "cell_type": "code",
   "execution_count": 72,
   "id": "137e87c9",
   "metadata": {},
   "outputs": [
    {
     "data": {
      "text/plain": [
       "(147, 8)"
      ]
     },
     "execution_count": 72,
     "metadata": {},
     "output_type": "execute_result"
    }
   ],
   "source": [
    "data.shape"
   ]
  },
  {
   "cell_type": "markdown",
   "id": "67f9d6b2",
   "metadata": {},
   "source": [
    "## String manipulation "
   ]
  },
  {
   "cell_type": "markdown",
   "id": "34c8db44",
   "metadata": {},
   "source": [
    "The data consists of \" , \" character instead of \" . \" character representing the values in a float format. which doesn't make sense. Hence replaced the character using a string manipuation function"
   ]
  },
  {
   "cell_type": "code",
   "execution_count": 114,
   "id": "02eb90ae",
   "metadata": {},
   "outputs": [],
   "source": [
    "data['Happiness_score'] = data['Happiness score'].str.replace(',','.')\n",
    "data['GDP per capita'] = data['Explained by: GDP per capita'].str.replace(',','.')\n",
    "data['Social support'] = data['Explained by: Social support'].str.replace(',','.')\n",
    "data['Freedom to make life choices'] = data['Explained by: Freedom to make life choices'].str.replace(',','.')\n",
    "data['Generosity'] = data['Explained by: Generosity'].str.replace(',','.')\n",
    "data['Perceptions of corruption'] = data['Explained by: Perceptions of corruption'].str.replace(',','.')"
   ]
  },
  {
   "cell_type": "code",
   "execution_count": 125,
   "id": "9d614a30",
   "metadata": {},
   "outputs": [],
   "source": [
    "final_df = data.drop(['Happiness score','Explained by: GDP per capita','Explained by: Social support','Explained by: Healthy life expectancy','Explained by: Freedom to make life choices','Explained by: Generosity','Explained by: Perceptions of corruption'],axis=1)"
   ]
  },
  {
   "cell_type": "markdown",
   "id": "be8b0d29",
   "metadata": {},
   "source": [
    "## Handling Null Values "
   ]
  },
  {
   "cell_type": "code",
   "execution_count": 126,
   "id": "5dd65b68",
   "metadata": {},
   "outputs": [
    {
     "data": {
      "text/html": [
       "<div>\n",
       "<style scoped>\n",
       "    .dataframe tbody tr th:only-of-type {\n",
       "        vertical-align: middle;\n",
       "    }\n",
       "\n",
       "    .dataframe tbody tr th {\n",
       "        vertical-align: top;\n",
       "    }\n",
       "\n",
       "    .dataframe thead th {\n",
       "        text-align: right;\n",
       "    }\n",
       "</style>\n",
       "<table border=\"1\" class=\"dataframe\">\n",
       "  <thead>\n",
       "    <tr style=\"text-align: right;\">\n",
       "      <th></th>\n",
       "      <th>Country</th>\n",
       "      <th>GDP per capita</th>\n",
       "      <th>Social support</th>\n",
       "      <th>Freedom to make life choices</th>\n",
       "      <th>Generosity</th>\n",
       "      <th>Perceptions of corruption</th>\n",
       "      <th>Happiness_score</th>\n",
       "    </tr>\n",
       "  </thead>\n",
       "  <tbody>\n",
       "    <tr>\n",
       "      <th>0</th>\n",
       "      <td>Finland</td>\n",
       "      <td>1.892</td>\n",
       "      <td>1.258</td>\n",
       "      <td>0.736</td>\n",
       "      <td>0.109</td>\n",
       "      <td>0.534</td>\n",
       "      <td>7.821</td>\n",
       "    </tr>\n",
       "    <tr>\n",
       "      <th>1</th>\n",
       "      <td>Denmark</td>\n",
       "      <td>1.953</td>\n",
       "      <td>1.243</td>\n",
       "      <td>0.719</td>\n",
       "      <td>0.188</td>\n",
       "      <td>0.532</td>\n",
       "      <td>7.636</td>\n",
       "    </tr>\n",
       "    <tr>\n",
       "      <th>2</th>\n",
       "      <td>Iceland</td>\n",
       "      <td>1.936</td>\n",
       "      <td>1.320</td>\n",
       "      <td>0.718</td>\n",
       "      <td>0.270</td>\n",
       "      <td>0.191</td>\n",
       "      <td>7.557</td>\n",
       "    </tr>\n",
       "    <tr>\n",
       "      <th>3</th>\n",
       "      <td>Switzerland</td>\n",
       "      <td>2.026</td>\n",
       "      <td>1.226</td>\n",
       "      <td>0.677</td>\n",
       "      <td>0.147</td>\n",
       "      <td>0.461</td>\n",
       "      <td>7.512</td>\n",
       "    </tr>\n",
       "    <tr>\n",
       "      <th>4</th>\n",
       "      <td>Netherlands</td>\n",
       "      <td>1.945</td>\n",
       "      <td>1.206</td>\n",
       "      <td>0.651</td>\n",
       "      <td>0.271</td>\n",
       "      <td>0.419</td>\n",
       "      <td>7.415</td>\n",
       "    </tr>\n",
       "    <tr>\n",
       "      <th>...</th>\n",
       "      <td>...</td>\n",
       "      <td>...</td>\n",
       "      <td>...</td>\n",
       "      <td>...</td>\n",
       "      <td>...</td>\n",
       "      <td>...</td>\n",
       "      <td>...</td>\n",
       "    </tr>\n",
       "    <tr>\n",
       "      <th>141</th>\n",
       "      <td>Botswana*</td>\n",
       "      <td>1.503</td>\n",
       "      <td>0.815</td>\n",
       "      <td>0.571</td>\n",
       "      <td>0.012</td>\n",
       "      <td>0.102</td>\n",
       "      <td>3.471</td>\n",
       "    </tr>\n",
       "    <tr>\n",
       "      <th>142</th>\n",
       "      <td>Rwanda*</td>\n",
       "      <td>0.785</td>\n",
       "      <td>0.133</td>\n",
       "      <td>0.621</td>\n",
       "      <td>0.187</td>\n",
       "      <td>0.544</td>\n",
       "      <td>3.268</td>\n",
       "    </tr>\n",
       "    <tr>\n",
       "      <th>143</th>\n",
       "      <td>Zimbabwe</td>\n",
       "      <td>0.947</td>\n",
       "      <td>0.690</td>\n",
       "      <td>0.329</td>\n",
       "      <td>0.106</td>\n",
       "      <td>0.105</td>\n",
       "      <td>2.995</td>\n",
       "    </tr>\n",
       "    <tr>\n",
       "      <th>144</th>\n",
       "      <td>Lebanon</td>\n",
       "      <td>1.392</td>\n",
       "      <td>0.498</td>\n",
       "      <td>0.103</td>\n",
       "      <td>0.082</td>\n",
       "      <td>0.034</td>\n",
       "      <td>2.955</td>\n",
       "    </tr>\n",
       "    <tr>\n",
       "      <th>145</th>\n",
       "      <td>Afghanistan</td>\n",
       "      <td>0.758</td>\n",
       "      <td>0.000</td>\n",
       "      <td>0.000</td>\n",
       "      <td>0.089</td>\n",
       "      <td>0.005</td>\n",
       "      <td>2.404</td>\n",
       "    </tr>\n",
       "  </tbody>\n",
       "</table>\n",
       "<p>146 rows × 7 columns</p>\n",
       "</div>"
      ],
      "text/plain": [
       "         Country GDP per capita Social support Freedom to make life choices  \\\n",
       "0        Finland          1.892          1.258                        0.736   \n",
       "1        Denmark          1.953          1.243                        0.719   \n",
       "2        Iceland          1.936          1.320                        0.718   \n",
       "3    Switzerland          2.026          1.226                        0.677   \n",
       "4    Netherlands          1.945          1.206                        0.651   \n",
       "..           ...            ...            ...                          ...   \n",
       "141    Botswana*          1.503          0.815                        0.571   \n",
       "142      Rwanda*          0.785          0.133                        0.621   \n",
       "143     Zimbabwe          0.947          0.690                        0.329   \n",
       "144      Lebanon          1.392          0.498                        0.103   \n",
       "145  Afghanistan          0.758          0.000                        0.000   \n",
       "\n",
       "    Generosity Perceptions of corruption Happiness_score  \n",
       "0        0.109                     0.534           7.821  \n",
       "1        0.188                     0.532           7.636  \n",
       "2        0.270                     0.191           7.557  \n",
       "3        0.147                     0.461           7.512  \n",
       "4        0.271                     0.419           7.415  \n",
       "..         ...                       ...             ...  \n",
       "141      0.012                     0.102           3.471  \n",
       "142      0.187                     0.544           3.268  \n",
       "143      0.106                     0.105           2.995  \n",
       "144      0.082                     0.034           2.955  \n",
       "145      0.089                     0.005           2.404  \n",
       "\n",
       "[146 rows x 7 columns]"
      ]
     },
     "execution_count": 126,
     "metadata": {},
     "output_type": "execute_result"
    }
   ],
   "source": [
    "final_df.dropna()"
   ]
  },
  {
   "cell_type": "code",
   "execution_count": 161,
   "id": "ff023cb3",
   "metadata": {},
   "outputs": [
    {
     "name": "stderr",
     "output_type": "stream",
     "text": [
      "C:\\Users\\gotim\\AppData\\Local\\Temp/ipykernel_20548/317225460.py:1: FutureWarning: Dropping of nuisance columns in DataFrame reductions (with 'numeric_only=None') is deprecated; in a future version this will raise TypeError.  Select only valid columns before calling the reduction.\n",
      "  final_df.replace(0.000,final_df.mean(axis=0),inplace=True)\n"
     ]
    }
   ],
   "source": [
    "final_df.replace(0.000,final_df.mean(axis=0),inplace=True)"
   ]
  },
  {
   "cell_type": "markdown",
   "id": "f4173180",
   "metadata": {},
   "source": [
    "## What are the datatypes?"
   ]
  },
  {
   "cell_type": "code",
   "execution_count": 162,
   "id": "8727d193",
   "metadata": {},
   "outputs": [
    {
     "data": {
      "text/plain": [
       "Country                          object\n",
       "GDP per capita                  float64\n",
       "Social support                  float64\n",
       "Freedom to make life choices    float64\n",
       "Generosity                      float64\n",
       "Perceptions of corruption       float64\n",
       "Happiness_score                 float64\n",
       "dtype: object"
      ]
     },
     "execution_count": 162,
     "metadata": {},
     "output_type": "execute_result"
    }
   ],
   "source": [
    "final_df.dtypes"
   ]
  },
  {
   "cell_type": "markdown",
   "id": "4f30244e",
   "metadata": {},
   "source": [
    "## DataType Conversion"
   ]
  },
  {
   "cell_type": "code",
   "execution_count": 163,
   "id": "881a71c1",
   "metadata": {},
   "outputs": [],
   "source": [
    "final_df[['Happiness_score', 'GDP per capita', 'Social support', 'Freedom to make life choices','Generosity','Perceptions of corruption']] = final_df[['Happiness_score', 'GDP per capita', 'Social support','Freedom to make life choices','Generosity','Perceptions of corruption']].astype(float)"
   ]
  },
  {
   "cell_type": "code",
   "execution_count": 164,
   "id": "0857fa46",
   "metadata": {},
   "outputs": [
    {
     "data": {
      "text/plain": [
       "Country                          object\n",
       "GDP per capita                  float64\n",
       "Social support                  float64\n",
       "Freedom to make life choices    float64\n",
       "Generosity                      float64\n",
       "Perceptions of corruption       float64\n",
       "Happiness_score                 float64\n",
       "dtype: object"
      ]
     },
     "execution_count": 164,
     "metadata": {},
     "output_type": "execute_result"
    }
   ],
   "source": [
    "final_df.dtypes"
   ]
  },
  {
   "cell_type": "markdown",
   "id": "499cc2be",
   "metadata": {},
   "source": [
    "## What's the Range and Average Happiness Score for all the countries?"
   ]
  },
  {
   "cell_type": "code",
   "execution_count": 165,
   "id": "779665ff",
   "metadata": {},
   "outputs": [
    {
     "data": {
      "text/plain": [
       "7.821"
      ]
     },
     "execution_count": 165,
     "metadata": {},
     "output_type": "execute_result"
    }
   ],
   "source": [
    "final_df['Happiness_score'].max()"
   ]
  },
  {
   "cell_type": "code",
   "execution_count": 166,
   "id": "71124b3c",
   "metadata": {},
   "outputs": [
    {
     "data": {
      "text/plain": [
       "2.404"
      ]
     },
     "execution_count": 166,
     "metadata": {},
     "output_type": "execute_result"
    }
   ],
   "source": [
    "final_df['Happiness_score'].min()"
   ]
  },
  {
   "cell_type": "markdown",
   "id": "244a7c1a",
   "metadata": {},
   "source": [
    "The max and min values of Happiness Score are reasonable since all the scores range between 2 to 8"
   ]
  },
  {
   "cell_type": "code",
   "execution_count": 167,
   "id": "e489d359",
   "metadata": {},
   "outputs": [
    {
     "data": {
      "text/plain": [
       "5.55357534246575"
      ]
     },
     "execution_count": 167,
     "metadata": {},
     "output_type": "execute_result"
    }
   ],
   "source": [
    "final_df['Happiness_score'].mean()"
   ]
  },
  {
   "cell_type": "markdown",
   "id": "1e13c9bc",
   "metadata": {},
   "source": [
    "## Is there any correlation between the features?"
   ]
  },
  {
   "cell_type": "code",
   "execution_count": 168,
   "id": "06a3d090",
   "metadata": {},
   "outputs": [
    {
     "data": {
      "text/html": [
       "<div>\n",
       "<style scoped>\n",
       "    .dataframe tbody tr th:only-of-type {\n",
       "        vertical-align: middle;\n",
       "    }\n",
       "\n",
       "    .dataframe tbody tr th {\n",
       "        vertical-align: top;\n",
       "    }\n",
       "\n",
       "    .dataframe thead th {\n",
       "        text-align: right;\n",
       "    }\n",
       "</style>\n",
       "<table border=\"1\" class=\"dataframe\">\n",
       "  <thead>\n",
       "    <tr style=\"text-align: right;\">\n",
       "      <th></th>\n",
       "      <th>GDP per capita</th>\n",
       "      <th>Social support</th>\n",
       "      <th>Freedom to make life choices</th>\n",
       "      <th>Generosity</th>\n",
       "      <th>Perceptions of corruption</th>\n",
       "      <th>Happiness_score</th>\n",
       "    </tr>\n",
       "  </thead>\n",
       "  <tbody>\n",
       "    <tr>\n",
       "      <th>GDP per capita</th>\n",
       "      <td>1.000000</td>\n",
       "      <td>0.748796</td>\n",
       "      <td>0.417605</td>\n",
       "      <td>-0.148967</td>\n",
       "      <td>0.387337</td>\n",
       "      <td>0.781299</td>\n",
       "    </tr>\n",
       "    <tr>\n",
       "      <th>Social support</th>\n",
       "      <td>0.748796</td>\n",
       "      <td>1.000000</td>\n",
       "      <td>0.435693</td>\n",
       "      <td>-0.032774</td>\n",
       "      <td>0.214235</td>\n",
       "      <td>0.740657</td>\n",
       "    </tr>\n",
       "    <tr>\n",
       "      <th>Freedom to make life choices</th>\n",
       "      <td>0.417605</td>\n",
       "      <td>0.435693</td>\n",
       "      <td>1.000000</td>\n",
       "      <td>0.167747</td>\n",
       "      <td>0.394094</td>\n",
       "      <td>0.579844</td>\n",
       "    </tr>\n",
       "    <tr>\n",
       "      <th>Generosity</th>\n",
       "      <td>-0.148967</td>\n",
       "      <td>-0.032774</td>\n",
       "      <td>0.167747</td>\n",
       "      <td>1.000000</td>\n",
       "      <td>0.098843</td>\n",
       "      <td>0.057867</td>\n",
       "    </tr>\n",
       "    <tr>\n",
       "      <th>Perceptions of corruption</th>\n",
       "      <td>0.387337</td>\n",
       "      <td>0.214235</td>\n",
       "      <td>0.394094</td>\n",
       "      <td>0.098843</td>\n",
       "      <td>1.000000</td>\n",
       "      <td>0.422786</td>\n",
       "    </tr>\n",
       "    <tr>\n",
       "      <th>Happiness_score</th>\n",
       "      <td>0.781299</td>\n",
       "      <td>0.740657</td>\n",
       "      <td>0.579844</td>\n",
       "      <td>0.057867</td>\n",
       "      <td>0.422786</td>\n",
       "      <td>1.000000</td>\n",
       "    </tr>\n",
       "  </tbody>\n",
       "</table>\n",
       "</div>"
      ],
      "text/plain": [
       "                              GDP per capita  Social support  \\\n",
       "GDP per capita                      1.000000        0.748796   \n",
       "Social support                      0.748796        1.000000   \n",
       "Freedom to make life choices        0.417605        0.435693   \n",
       "Generosity                         -0.148967       -0.032774   \n",
       "Perceptions of corruption           0.387337        0.214235   \n",
       "Happiness_score                     0.781299        0.740657   \n",
       "\n",
       "                              Freedom to make life choices  Generosity  \\\n",
       "GDP per capita                                    0.417605   -0.148967   \n",
       "Social support                                    0.435693   -0.032774   \n",
       "Freedom to make life choices                      1.000000    0.167747   \n",
       "Generosity                                        0.167747    1.000000   \n",
       "Perceptions of corruption                         0.394094    0.098843   \n",
       "Happiness_score                                   0.579844    0.057867   \n",
       "\n",
       "                              Perceptions of corruption  Happiness_score  \n",
       "GDP per capita                                 0.387337         0.781299  \n",
       "Social support                                 0.214235         0.740657  \n",
       "Freedom to make life choices                   0.394094         0.579844  \n",
       "Generosity                                     0.098843         0.057867  \n",
       "Perceptions of corruption                      1.000000         0.422786  \n",
       "Happiness_score                                0.422786         1.000000  "
      ]
     },
     "execution_count": 168,
     "metadata": {},
     "output_type": "execute_result"
    }
   ],
   "source": [
    "correlation = final_df.corr()\n",
    "correlation"
   ]
  },
  {
   "cell_type": "code",
   "execution_count": 169,
   "id": "ffd929c3",
   "metadata": {},
   "outputs": [
    {
     "data": {
      "text/plain": [
       "Happiness_score                 1.000000\n",
       "GDP per capita                  0.781299\n",
       "Social support                  0.740657\n",
       "Freedom to make life choices    0.579844\n",
       "Perceptions of corruption       0.422786\n",
       "Generosity                      0.057867\n",
       "Name: Happiness_score, dtype: float64"
      ]
     },
     "execution_count": 169,
     "metadata": {},
     "output_type": "execute_result"
    }
   ],
   "source": [
    "abs(correlation['Happiness_score'].sort_values(ascending=False))"
   ]
  },
  {
   "cell_type": "markdown",
   "id": "3cb8f3b8",
   "metadata": {},
   "source": [
    "A high correlation exists between GDP per capita, social support for happiness. I would use these three features to build regression models to predict the target Happiness Score of Each Country. GDP per capita cannot solely be used for the analysis, meaning high GDP per capita does not immediately translate to a higher happiness index. Therefore, besides income, there must be other important factors that contribute to people’s happiness besides money."
   ]
  },
  {
   "cell_type": "markdown",
   "id": "ad6555f9",
   "metadata": {},
   "source": [
    "## Which Country has the highest happiness score and Why?"
   ]
  },
  {
   "cell_type": "code",
   "execution_count": 170,
   "id": "6cbdd2c9",
   "metadata": {},
   "outputs": [
    {
     "data": {
      "text/html": [
       "<div>\n",
       "<style scoped>\n",
       "    .dataframe tbody tr th:only-of-type {\n",
       "        vertical-align: middle;\n",
       "    }\n",
       "\n",
       "    .dataframe tbody tr th {\n",
       "        vertical-align: top;\n",
       "    }\n",
       "\n",
       "    .dataframe thead th {\n",
       "        text-align: right;\n",
       "    }\n",
       "</style>\n",
       "<table border=\"1\" class=\"dataframe\">\n",
       "  <thead>\n",
       "    <tr style=\"text-align: right;\">\n",
       "      <th></th>\n",
       "      <th>Country</th>\n",
       "      <th>GDP per capita</th>\n",
       "      <th>Social support</th>\n",
       "      <th>Freedom to make life choices</th>\n",
       "      <th>Generosity</th>\n",
       "      <th>Perceptions of corruption</th>\n",
       "      <th>Happiness_score</th>\n",
       "    </tr>\n",
       "  </thead>\n",
       "  <tbody>\n",
       "    <tr>\n",
       "      <th>0</th>\n",
       "      <td>Finland</td>\n",
       "      <td>1.892</td>\n",
       "      <td>1.258</td>\n",
       "      <td>0.736</td>\n",
       "      <td>0.109</td>\n",
       "      <td>0.534</td>\n",
       "      <td>7.821</td>\n",
       "    </tr>\n",
       "  </tbody>\n",
       "</table>\n",
       "</div>"
      ],
      "text/plain": [
       "   Country  GDP per capita  Social support  Freedom to make life choices  \\\n",
       "0  Finland           1.892           1.258                         0.736   \n",
       "\n",
       "   Generosity  Perceptions of corruption  Happiness_score  \n",
       "0       0.109                      0.534            7.821  "
      ]
     },
     "execution_count": 170,
     "metadata": {},
     "output_type": "execute_result"
    }
   ],
   "source": [
    "final_df[final_df.Happiness_score == final_df.Happiness_score.max()]"
   ]
  },
  {
   "cell_type": "code",
   "execution_count": 171,
   "id": "20d7f87b",
   "metadata": {},
   "outputs": [
    {
     "data": {
      "text/html": [
       "<div>\n",
       "<style scoped>\n",
       "    .dataframe tbody tr th:only-of-type {\n",
       "        vertical-align: middle;\n",
       "    }\n",
       "\n",
       "    .dataframe tbody tr th {\n",
       "        vertical-align: top;\n",
       "    }\n",
       "\n",
       "    .dataframe thead th {\n",
       "        text-align: right;\n",
       "    }\n",
       "</style>\n",
       "<table border=\"1\" class=\"dataframe\">\n",
       "  <thead>\n",
       "    <tr style=\"text-align: right;\">\n",
       "      <th></th>\n",
       "      <th>GDP per capita</th>\n",
       "      <th>Social support</th>\n",
       "      <th>Freedom to make life choices</th>\n",
       "      <th>Generosity</th>\n",
       "      <th>Perceptions of corruption</th>\n",
       "      <th>Happiness_score</th>\n",
       "    </tr>\n",
       "  </thead>\n",
       "  <tbody>\n",
       "    <tr>\n",
       "      <th>count</th>\n",
       "      <td>146.000000</td>\n",
       "      <td>146.000000</td>\n",
       "      <td>146.000000</td>\n",
       "      <td>146.000000</td>\n",
       "      <td>146.000000</td>\n",
       "      <td>146.000000</td>\n",
       "    </tr>\n",
       "    <tr>\n",
       "      <th>mean</th>\n",
       "      <td>1.420106</td>\n",
       "      <td>0.912068</td>\n",
       "      <td>0.520769</td>\n",
       "      <td>0.148386</td>\n",
       "      <td>0.155841</td>\n",
       "      <td>5.553575</td>\n",
       "    </tr>\n",
       "    <tr>\n",
       "      <th>std</th>\n",
       "      <td>0.404952</td>\n",
       "      <td>0.269759</td>\n",
       "      <td>0.139345</td>\n",
       "      <td>0.081883</td>\n",
       "      <td>0.126860</td>\n",
       "      <td>1.086843</td>\n",
       "    </tr>\n",
       "    <tr>\n",
       "      <th>min</th>\n",
       "      <td>0.570000</td>\n",
       "      <td>0.064000</td>\n",
       "      <td>0.103000</td>\n",
       "      <td>0.007000</td>\n",
       "      <td>0.005000</td>\n",
       "      <td>2.404000</td>\n",
       "    </tr>\n",
       "    <tr>\n",
       "      <th>25%</th>\n",
       "      <td>1.101250</td>\n",
       "      <td>0.732000</td>\n",
       "      <td>0.442500</td>\n",
       "      <td>0.089000</td>\n",
       "      <td>0.069500</td>\n",
       "      <td>4.888750</td>\n",
       "    </tr>\n",
       "    <tr>\n",
       "      <th>50%</th>\n",
       "      <td>1.445500</td>\n",
       "      <td>0.957500</td>\n",
       "      <td>0.543500</td>\n",
       "      <td>0.134500</td>\n",
       "      <td>0.123500</td>\n",
       "      <td>5.568500</td>\n",
       "    </tr>\n",
       "    <tr>\n",
       "      <th>75%</th>\n",
       "      <td>1.784750</td>\n",
       "      <td>1.114250</td>\n",
       "      <td>0.626000</td>\n",
       "      <td>0.197750</td>\n",
       "      <td>0.198500</td>\n",
       "      <td>6.305000</td>\n",
       "    </tr>\n",
       "    <tr>\n",
       "      <th>max</th>\n",
       "      <td>2.209000</td>\n",
       "      <td>1.320000</td>\n",
       "      <td>0.740000</td>\n",
       "      <td>0.468000</td>\n",
       "      <td>0.587000</td>\n",
       "      <td>7.821000</td>\n",
       "    </tr>\n",
       "  </tbody>\n",
       "</table>\n",
       "</div>"
      ],
      "text/plain": [
       "       GDP per capita  Social support  Freedom to make life choices  \\\n",
       "count      146.000000      146.000000                    146.000000   \n",
       "mean         1.420106        0.912068                      0.520769   \n",
       "std          0.404952        0.269759                      0.139345   \n",
       "min          0.570000        0.064000                      0.103000   \n",
       "25%          1.101250        0.732000                      0.442500   \n",
       "50%          1.445500        0.957500                      0.543500   \n",
       "75%          1.784750        1.114250                      0.626000   \n",
       "max          2.209000        1.320000                      0.740000   \n",
       "\n",
       "       Generosity  Perceptions of corruption  Happiness_score  \n",
       "count  146.000000                 146.000000       146.000000  \n",
       "mean     0.148386                   0.155841         5.553575  \n",
       "std      0.081883                   0.126860         1.086843  \n",
       "min      0.007000                   0.005000         2.404000  \n",
       "25%      0.089000                   0.069500         4.888750  \n",
       "50%      0.134500                   0.123500         5.568500  \n",
       "75%      0.197750                   0.198500         6.305000  \n",
       "max      0.468000                   0.587000         7.821000  "
      ]
     },
     "execution_count": 171,
     "metadata": {},
     "output_type": "execute_result"
    }
   ],
   "source": [
    "final_df.describe()"
   ]
  },
  {
   "cell_type": "markdown",
   "id": "299ce437",
   "metadata": {},
   "source": [
    "According to the Happiness Index, Finland has the highest happiness score, 7.8. It is obvious from the maximum values across the columns that Finland has very high values when it comes to GDP per capita, Social Support, and Freedom to make life choices. It has a relatively low score for generosity. While this does not account for all of Finland's Happiness scores, it might explain why they are ranked highest."
   ]
  },
  {
   "cell_type": "code",
   "execution_count": 176,
   "id": "781146d5",
   "metadata": {},
   "outputs": [
    {
     "data": {
      "text/html": [
       "<div>\n",
       "<style scoped>\n",
       "    .dataframe tbody tr th:only-of-type {\n",
       "        vertical-align: middle;\n",
       "    }\n",
       "\n",
       "    .dataframe tbody tr th {\n",
       "        vertical-align: top;\n",
       "    }\n",
       "\n",
       "    .dataframe thead th {\n",
       "        text-align: right;\n",
       "    }\n",
       "</style>\n",
       "<table border=\"1\" class=\"dataframe\">\n",
       "  <thead>\n",
       "    <tr style=\"text-align: right;\">\n",
       "      <th></th>\n",
       "      <th>GDP per capita</th>\n",
       "      <th>Social support</th>\n",
       "      <th>Freedom to make life choices</th>\n",
       "      <th>Generosity</th>\n",
       "      <th>Perceptions of corruption</th>\n",
       "      <th>Happiness_score</th>\n",
       "    </tr>\n",
       "  </thead>\n",
       "  <tbody>\n",
       "    <tr>\n",
       "      <th>GDP per capita</th>\n",
       "      <td>1.000000</td>\n",
       "      <td>0.748796</td>\n",
       "      <td>0.417605</td>\n",
       "      <td>-0.148967</td>\n",
       "      <td>0.387337</td>\n",
       "      <td>0.781299</td>\n",
       "    </tr>\n",
       "    <tr>\n",
       "      <th>Social support</th>\n",
       "      <td>0.748796</td>\n",
       "      <td>1.000000</td>\n",
       "      <td>0.435693</td>\n",
       "      <td>-0.032774</td>\n",
       "      <td>0.214235</td>\n",
       "      <td>0.740657</td>\n",
       "    </tr>\n",
       "    <tr>\n",
       "      <th>Freedom to make life choices</th>\n",
       "      <td>0.417605</td>\n",
       "      <td>0.435693</td>\n",
       "      <td>1.000000</td>\n",
       "      <td>0.167747</td>\n",
       "      <td>0.394094</td>\n",
       "      <td>0.579844</td>\n",
       "    </tr>\n",
       "    <tr>\n",
       "      <th>Generosity</th>\n",
       "      <td>-0.148967</td>\n",
       "      <td>-0.032774</td>\n",
       "      <td>0.167747</td>\n",
       "      <td>1.000000</td>\n",
       "      <td>0.098843</td>\n",
       "      <td>0.057867</td>\n",
       "    </tr>\n",
       "    <tr>\n",
       "      <th>Perceptions of corruption</th>\n",
       "      <td>0.387337</td>\n",
       "      <td>0.214235</td>\n",
       "      <td>0.394094</td>\n",
       "      <td>0.098843</td>\n",
       "      <td>1.000000</td>\n",
       "      <td>0.422786</td>\n",
       "    </tr>\n",
       "    <tr>\n",
       "      <th>Happiness_score</th>\n",
       "      <td>0.781299</td>\n",
       "      <td>0.740657</td>\n",
       "      <td>0.579844</td>\n",
       "      <td>0.057867</td>\n",
       "      <td>0.422786</td>\n",
       "      <td>1.000000</td>\n",
       "    </tr>\n",
       "  </tbody>\n",
       "</table>\n",
       "</div>"
      ],
      "text/plain": [
       "                              GDP per capita  Social support  \\\n",
       "GDP per capita                      1.000000        0.748796   \n",
       "Social support                      0.748796        1.000000   \n",
       "Freedom to make life choices        0.417605        0.435693   \n",
       "Generosity                         -0.148967       -0.032774   \n",
       "Perceptions of corruption           0.387337        0.214235   \n",
       "Happiness_score                     0.781299        0.740657   \n",
       "\n",
       "                              Freedom to make life choices  Generosity  \\\n",
       "GDP per capita                                    0.417605   -0.148967   \n",
       "Social support                                    0.435693   -0.032774   \n",
       "Freedom to make life choices                      1.000000    0.167747   \n",
       "Generosity                                        0.167747    1.000000   \n",
       "Perceptions of corruption                         0.394094    0.098843   \n",
       "Happiness_score                                   0.579844    0.057867   \n",
       "\n",
       "                              Perceptions of corruption  Happiness_score  \n",
       "GDP per capita                                 0.387337         0.781299  \n",
       "Social support                                 0.214235         0.740657  \n",
       "Freedom to make life choices                   0.394094         0.579844  \n",
       "Generosity                                     0.098843         0.057867  \n",
       "Perceptions of corruption                      1.000000         0.422786  \n",
       "Happiness_score                                0.422786         1.000000  "
      ]
     },
     "execution_count": 176,
     "metadata": {},
     "output_type": "execute_result"
    }
   ],
   "source": [
    "final_df.corr()"
   ]
  },
  {
   "cell_type": "code",
   "execution_count": 178,
   "id": "9d880b80",
   "metadata": {},
   "outputs": [
    {
     "data": {
      "text/plain": [
       "Text(0.5, 1.0, 'Correlations of Country Data Features')"
      ]
     },
     "execution_count": 178,
     "metadata": {},
     "output_type": "execute_result"
    },
    {
     "data": {
      "image/png": "[encoded data removed]",
      "text/plain": [
       "<Figure size 432x288 with 2 Axes>"
      ]
     },
     "metadata": {
      "needs_background": "light"
     },
     "output_type": "display_data"
    }
   ],
   "source": [
    "heatmap = sns.heatmap(final_df.corr(),vmin=-1, vmax=1, annot=True)\n",
    "heatmap.set_title('Correlations of Country Data Features', fontdict={'fontsize':12}, pad=12)"
   ]
  },
  {
   "cell_type": "markdown",
   "id": "b320d39f",
   "metadata": {},
   "source": [
    "Social support and GDP per capita are highly correlated with happiness scores. Similarly, freedom to make life choices is significantly correlated with happiness scores. These features may contribute more than other factors, but correlation does not imply causation. As a result, we can also determine which features to be dropped when we run a regression analysis on this data."
   ]
  },
  {
   "cell_type": "code",
   "execution_count": null,
   "id": "91491aae",
   "metadata": {},
   "outputs": [],
   "source": []
  }
 ],
 "metadata": {
  "kernelspec": {
   "display_name": "Python 3 (ipykernel)",
   "language": "python",
   "name": "python3"
  },
  "language_info": {
   "codemirror_mode": {
    "name": "ipython",
    "version": 3
   },
   "file_extension": ".py",
   "mimetype": "text/x-python",
   "name": "python",
   "nbconvert_exporter": "python",
   "pygments_lexer": "ipython3",
   "version": "3.9.7"
  }
 },
 "nbformat": 4,
 "nbformat_minor": 5
}
