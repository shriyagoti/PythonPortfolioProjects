{
 "cells": [
  {
   "cell_type": "code",
   "execution_count": 33,
   "id": "ec3d23c0",
   "metadata": {},
   "outputs": [],
   "source": [
    "import pandas as pd\n",
    "import numpy as np\n",
    "import seaborn as sns"
   ]
  },
  {
   "cell_type": "markdown",
   "id": "4daa7823",
   "metadata": {},
   "source": [
    "# Reading the data"
   ]
  },
  {
   "cell_type": "code",
   "execution_count": 34,
   "id": "5f997f06",
   "metadata": {},
   "outputs": [],
   "source": [
    "data = pd.read_csv(r'https://raw.githubusercontent.com/shriyagoti/PythonPortfolioProjects/main/WorldHappinessReport2022/WorldHappiness2022.csv')"
   ]
  },
  {
   "cell_type": "code",
   "execution_count": 35,
   "id": "c8b0de0b",
   "metadata": {},
   "outputs": [
    {
     "data": {
      "text/html": [
       "<div>\n",
       "<style scoped>\n",
       "    .dataframe tbody tr th:only-of-type {\n",
       "        vertical-align: middle;\n",
       "    }\n",
       "\n",
       "    .dataframe tbody tr th {\n",
       "        vertical-align: top;\n",
       "    }\n",
       "\n",
       "    .dataframe thead th {\n",
       "        text-align: right;\n",
       "    }\n",
       "</style>\n",
       "<table border=\"1\" class=\"dataframe\">\n",
       "  <thead>\n",
       "    <tr style=\"text-align: right;\">\n",
       "      <th></th>\n",
       "      <th>Country</th>\n",
       "      <th>Happiness score</th>\n",
       "      <th>Explained by: GDP per capita</th>\n",
       "      <th>Explained by: Social support</th>\n",
       "      <th>Explained by: Healthy life expectancy</th>\n",
       "      <th>Explained by: Freedom to make life choices</th>\n",
       "      <th>Explained by: Generosity</th>\n",
       "      <th>Explained by: Perceptions of corruption</th>\n",
       "    </tr>\n",
       "  </thead>\n",
       "  <tbody>\n",
       "    <tr>\n",
       "      <th>0</th>\n",
       "      <td>Finland</td>\n",
       "      <td>7,821</td>\n",
       "      <td>1,892</td>\n",
       "      <td>1,258</td>\n",
       "      <td>0,775</td>\n",
       "      <td>0,736</td>\n",
       "      <td>0,109</td>\n",
       "      <td>0,534</td>\n",
       "    </tr>\n",
       "    <tr>\n",
       "      <th>1</th>\n",
       "      <td>Denmark</td>\n",
       "      <td>7,636</td>\n",
       "      <td>1,953</td>\n",
       "      <td>1,243</td>\n",
       "      <td>0,777</td>\n",
       "      <td>0,719</td>\n",
       "      <td>0,188</td>\n",
       "      <td>0,532</td>\n",
       "    </tr>\n",
       "    <tr>\n",
       "      <th>2</th>\n",
       "      <td>Iceland</td>\n",
       "      <td>7,557</td>\n",
       "      <td>1,936</td>\n",
       "      <td>1,320</td>\n",
       "      <td>0,803</td>\n",
       "      <td>0,718</td>\n",
       "      <td>0,270</td>\n",
       "      <td>0,191</td>\n",
       "    </tr>\n",
       "    <tr>\n",
       "      <th>3</th>\n",
       "      <td>Switzerland</td>\n",
       "      <td>7,512</td>\n",
       "      <td>2,026</td>\n",
       "      <td>1,226</td>\n",
       "      <td>0,822</td>\n",
       "      <td>0,677</td>\n",
       "      <td>0,147</td>\n",
       "      <td>0,461</td>\n",
       "    </tr>\n",
       "    <tr>\n",
       "      <th>4</th>\n",
       "      <td>Netherlands</td>\n",
       "      <td>7,415</td>\n",
       "      <td>1,945</td>\n",
       "      <td>1,206</td>\n",
       "      <td>0,787</td>\n",
       "      <td>0,651</td>\n",
       "      <td>0,271</td>\n",
       "      <td>0,419</td>\n",
       "    </tr>\n",
       "    <tr>\n",
       "      <th>...</th>\n",
       "      <td>...</td>\n",
       "      <td>...</td>\n",
       "      <td>...</td>\n",
       "      <td>...</td>\n",
       "      <td>...</td>\n",
       "      <td>...</td>\n",
       "      <td>...</td>\n",
       "      <td>...</td>\n",
       "    </tr>\n",
       "    <tr>\n",
       "      <th>142</th>\n",
       "      <td>Rwanda*</td>\n",
       "      <td>3,268</td>\n",
       "      <td>0,785</td>\n",
       "      <td>0,133</td>\n",
       "      <td>0,462</td>\n",
       "      <td>0,621</td>\n",
       "      <td>0,187</td>\n",
       "      <td>0,544</td>\n",
       "    </tr>\n",
       "    <tr>\n",
       "      <th>143</th>\n",
       "      <td>Zimbabwe</td>\n",
       "      <td>2,995</td>\n",
       "      <td>0,947</td>\n",
       "      <td>0,690</td>\n",
       "      <td>0,270</td>\n",
       "      <td>0,329</td>\n",
       "      <td>0,106</td>\n",
       "      <td>0,105</td>\n",
       "    </tr>\n",
       "    <tr>\n",
       "      <th>144</th>\n",
       "      <td>Lebanon</td>\n",
       "      <td>2,955</td>\n",
       "      <td>1,392</td>\n",
       "      <td>0,498</td>\n",
       "      <td>0,631</td>\n",
       "      <td>0,103</td>\n",
       "      <td>0,082</td>\n",
       "      <td>0,034</td>\n",
       "    </tr>\n",
       "    <tr>\n",
       "      <th>145</th>\n",
       "      <td>Afghanistan</td>\n",
       "      <td>2,404</td>\n",
       "      <td>0,758</td>\n",
       "      <td>0,000</td>\n",
       "      <td>0,289</td>\n",
       "      <td>0,000</td>\n",
       "      <td>0,089</td>\n",
       "      <td>0,005</td>\n",
       "    </tr>\n",
       "    <tr>\n",
       "      <th>146</th>\n",
       "      <td>xx</td>\n",
       "      <td>NaN</td>\n",
       "      <td>NaN</td>\n",
       "      <td>NaN</td>\n",
       "      <td>NaN</td>\n",
       "      <td>NaN</td>\n",
       "      <td>NaN</td>\n",
       "      <td>NaN</td>\n",
       "    </tr>\n",
       "  </tbody>\n",
       "</table>\n",
       "<p>147 rows × 8 columns</p>\n",
       "</div>"
      ],
      "text/plain": [
       "         Country Happiness score Explained by: GDP per capita  \\\n",
       "0        Finland           7,821                        1,892   \n",
       "1        Denmark           7,636                        1,953   \n",
       "2        Iceland           7,557                        1,936   \n",
       "3    Switzerland           7,512                        2,026   \n",
       "4    Netherlands           7,415                        1,945   \n",
       "..           ...             ...                          ...   \n",
       "142      Rwanda*           3,268                        0,785   \n",
       "143     Zimbabwe           2,995                        0,947   \n",
       "144      Lebanon           2,955                        1,392   \n",
       "145  Afghanistan           2,404                        0,758   \n",
       "146           xx             NaN                          NaN   \n",
       "\n",
       "    Explained by: Social support Explained by: Healthy life expectancy  \\\n",
       "0                          1,258                                 0,775   \n",
       "1                          1,243                                 0,777   \n",
       "2                          1,320                                 0,803   \n",
       "3                          1,226                                 0,822   \n",
       "4                          1,206                                 0,787   \n",
       "..                           ...                                   ...   \n",
       "142                        0,133                                 0,462   \n",
       "143                        0,690                                 0,270   \n",
       "144                        0,498                                 0,631   \n",
       "145                        0,000                                 0,289   \n",
       "146                          NaN                                   NaN   \n",
       "\n",
       "    Explained by: Freedom to make life choices Explained by: Generosity  \\\n",
       "0                                        0,736                    0,109   \n",
       "1                                        0,719                    0,188   \n",
       "2                                        0,718                    0,270   \n",
       "3                                        0,677                    0,147   \n",
       "4                                        0,651                    0,271   \n",
       "..                                         ...                      ...   \n",
       "142                                      0,621                    0,187   \n",
       "143                                      0,329                    0,106   \n",
       "144                                      0,103                    0,082   \n",
       "145                                      0,000                    0,089   \n",
       "146                                        NaN                      NaN   \n",
       "\n",
       "    Explained by: Perceptions of corruption  \n",
       "0                                     0,534  \n",
       "1                                     0,532  \n",
       "2                                     0,191  \n",
       "3                                     0,461  \n",
       "4                                     0,419  \n",
       "..                                      ...  \n",
       "142                                   0,544  \n",
       "143                                   0,105  \n",
       "144                                   0,034  \n",
       "145                                   0,005  \n",
       "146                                     NaN  \n",
       "\n",
       "[147 rows x 8 columns]"
      ]
     },
     "execution_count": 35,
     "metadata": {},
     "output_type": "execute_result"
    }
   ],
   "source": [
    "data"
   ]
  },
  {
   "cell_type": "markdown",
   "id": "17d8a170",
   "metadata": {},
   "source": [
    "# Exploratory Data Analysis and Data Wrangling"
   ]
  },
  {
   "cell_type": "code",
   "execution_count": 36,
   "id": "cd0142d8",
   "metadata": {},
   "outputs": [
    {
     "data": {
      "text/plain": [
       "Index(['Country', 'Happiness score', 'Explained by: GDP per capita',\n",
       "       'Explained by: Social support', 'Explained by: Healthy life expectancy',\n",
       "       'Explained by: Freedom to make life choices',\n",
       "       'Explained by: Generosity', 'Explained by: Perceptions of corruption'],\n",
       "      dtype='object')"
      ]
     },
     "execution_count": 36,
     "metadata": {},
     "output_type": "execute_result"
    }
   ],
   "source": [
    "data.columns"
   ]
  },
  {
   "cell_type": "markdown",
   "id": "92e21559",
   "metadata": {},
   "source": [
    "## Are there any Null Values?"
   ]
  },
  {
   "cell_type": "code",
   "execution_count": 37,
   "id": "a95e4db3",
   "metadata": {},
   "outputs": [
    {
     "data": {
      "text/plain": [
       "Country                                       0\n",
       "Happiness score                               1\n",
       "Explained by: GDP per capita                  1\n",
       "Explained by: Social support                  1\n",
       "Explained by: Healthy life expectancy         1\n",
       "Explained by: Freedom to make life choices    1\n",
       "Explained by: Generosity                      1\n",
       "Explained by: Perceptions of corruption       1\n",
       "dtype: int64"
      ]
     },
     "execution_count": 37,
     "metadata": {},
     "output_type": "execute_result"
    }
   ],
   "source": [
    "data.isnull().sum()"
   ]
  },
  {
   "cell_type": "code",
   "execution_count": 38,
   "id": "137e87c9",
   "metadata": {},
   "outputs": [
    {
     "data": {
      "text/plain": [
       "(147, 8)"
      ]
     },
     "execution_count": 38,
     "metadata": {},
     "output_type": "execute_result"
    }
   ],
   "source": [
    "data.shape"
   ]
  },
  {
   "cell_type": "markdown",
   "id": "67f9d6b2",
   "metadata": {},
   "source": [
    "## String manipulation "
   ]
  },
  {
   "cell_type": "markdown",
   "id": "34c8db44",
   "metadata": {},
   "source": [
    "The data consists of \" , \" character instead of \" . \" character representing the values in a float format. which doesn't make sense. Hence replaced the character using a string manipuation function"
   ]
  },
  {
   "cell_type": "code",
   "execution_count": 39,
   "id": "02eb90ae",
   "metadata": {},
   "outputs": [],
   "source": [
    "data['Happiness_score'] = data['Happiness score'].str.replace(',','.')\n",
    "data['GDP per capita'] = data['Explained by: GDP per capita'].str.replace(',','.')\n",
    "data['Social support'] = data['Explained by: Social support'].str.replace(',','.')\n",
    "data['Freedom to make life choices'] = data['Explained by: Freedom to make life choices'].str.replace(',','.')\n",
    "data['Generosity'] = data['Explained by: Generosity'].str.replace(',','.')\n",
    "data['Perceptions of corruption'] = data['Explained by: Perceptions of corruption'].str.replace(',','.')\n",
    "data['Healthy life expectancy'] = data['Explained by: Healthy life expectancy'].str.replace(',','.')"
   ]
  },
  {
   "cell_type": "code",
   "execution_count": 40,
   "id": "9d614a30",
   "metadata": {},
   "outputs": [],
   "source": [
    "final_df = data.drop(['Happiness score','Explained by: GDP per capita','Explained by: Social support','Explained by: Healthy life expectancy','Explained by: Freedom to make life choices','Explained by: Generosity','Explained by: Perceptions of corruption'],axis=1)"
   ]
  },
  {
   "cell_type": "markdown",
   "id": "be8b0d29",
   "metadata": {},
   "source": [
    "## Handling Null Values "
   ]
  },
  {
   "cell_type": "code",
   "execution_count": 41,
   "id": "5dd65b68",
   "metadata": {},
   "outputs": [
    {
     "data": {
      "text/html": [
       "<div>\n",
       "<style scoped>\n",
       "    .dataframe tbody tr th:only-of-type {\n",
       "        vertical-align: middle;\n",
       "    }\n",
       "\n",
       "    .dataframe tbody tr th {\n",
       "        vertical-align: top;\n",
       "    }\n",
       "\n",
       "    .dataframe thead th {\n",
       "        text-align: right;\n",
       "    }\n",
       "</style>\n",
       "<table border=\"1\" class=\"dataframe\">\n",
       "  <thead>\n",
       "    <tr style=\"text-align: right;\">\n",
       "      <th></th>\n",
       "      <th>Country</th>\n",
       "      <th>Happiness_score</th>\n",
       "      <th>GDP per capita</th>\n",
       "      <th>Social support</th>\n",
       "      <th>Freedom to make life choices</th>\n",
       "      <th>Generosity</th>\n",
       "      <th>Perceptions of corruption</th>\n",
       "      <th>Healthy life expectancy</th>\n",
       "    </tr>\n",
       "  </thead>\n",
       "  <tbody>\n",
       "    <tr>\n",
       "      <th>0</th>\n",
       "      <td>Finland</td>\n",
       "      <td>7.821</td>\n",
       "      <td>1.892</td>\n",
       "      <td>1.258</td>\n",
       "      <td>0.736</td>\n",
       "      <td>0.109</td>\n",
       "      <td>0.534</td>\n",
       "      <td>0.775</td>\n",
       "    </tr>\n",
       "    <tr>\n",
       "      <th>1</th>\n",
       "      <td>Denmark</td>\n",
       "      <td>7.636</td>\n",
       "      <td>1.953</td>\n",
       "      <td>1.243</td>\n",
       "      <td>0.719</td>\n",
       "      <td>0.188</td>\n",
       "      <td>0.532</td>\n",
       "      <td>0.777</td>\n",
       "    </tr>\n",
       "    <tr>\n",
       "      <th>2</th>\n",
       "      <td>Iceland</td>\n",
       "      <td>7.557</td>\n",
       "      <td>1.936</td>\n",
       "      <td>1.320</td>\n",
       "      <td>0.718</td>\n",
       "      <td>0.270</td>\n",
       "      <td>0.191</td>\n",
       "      <td>0.803</td>\n",
       "    </tr>\n",
       "    <tr>\n",
       "      <th>3</th>\n",
       "      <td>Switzerland</td>\n",
       "      <td>7.512</td>\n",
       "      <td>2.026</td>\n",
       "      <td>1.226</td>\n",
       "      <td>0.677</td>\n",
       "      <td>0.147</td>\n",
       "      <td>0.461</td>\n",
       "      <td>0.822</td>\n",
       "    </tr>\n",
       "    <tr>\n",
       "      <th>4</th>\n",
       "      <td>Netherlands</td>\n",
       "      <td>7.415</td>\n",
       "      <td>1.945</td>\n",
       "      <td>1.206</td>\n",
       "      <td>0.651</td>\n",
       "      <td>0.271</td>\n",
       "      <td>0.419</td>\n",
       "      <td>0.787</td>\n",
       "    </tr>\n",
       "    <tr>\n",
       "      <th>...</th>\n",
       "      <td>...</td>\n",
       "      <td>...</td>\n",
       "      <td>...</td>\n",
       "      <td>...</td>\n",
       "      <td>...</td>\n",
       "      <td>...</td>\n",
       "      <td>...</td>\n",
       "      <td>...</td>\n",
       "    </tr>\n",
       "    <tr>\n",
       "      <th>141</th>\n",
       "      <td>Botswana*</td>\n",
       "      <td>3.471</td>\n",
       "      <td>1.503</td>\n",
       "      <td>0.815</td>\n",
       "      <td>0.571</td>\n",
       "      <td>0.012</td>\n",
       "      <td>0.102</td>\n",
       "      <td>0.280</td>\n",
       "    </tr>\n",
       "    <tr>\n",
       "      <th>142</th>\n",
       "      <td>Rwanda*</td>\n",
       "      <td>3.268</td>\n",
       "      <td>0.785</td>\n",
       "      <td>0.133</td>\n",
       "      <td>0.621</td>\n",
       "      <td>0.187</td>\n",
       "      <td>0.544</td>\n",
       "      <td>0.462</td>\n",
       "    </tr>\n",
       "    <tr>\n",
       "      <th>143</th>\n",
       "      <td>Zimbabwe</td>\n",
       "      <td>2.995</td>\n",
       "      <td>0.947</td>\n",
       "      <td>0.690</td>\n",
       "      <td>0.329</td>\n",
       "      <td>0.106</td>\n",
       "      <td>0.105</td>\n",
       "      <td>0.270</td>\n",
       "    </tr>\n",
       "    <tr>\n",
       "      <th>144</th>\n",
       "      <td>Lebanon</td>\n",
       "      <td>2.955</td>\n",
       "      <td>1.392</td>\n",
       "      <td>0.498</td>\n",
       "      <td>0.103</td>\n",
       "      <td>0.082</td>\n",
       "      <td>0.034</td>\n",
       "      <td>0.631</td>\n",
       "    </tr>\n",
       "    <tr>\n",
       "      <th>145</th>\n",
       "      <td>Afghanistan</td>\n",
       "      <td>2.404</td>\n",
       "      <td>0.758</td>\n",
       "      <td>0.000</td>\n",
       "      <td>0.000</td>\n",
       "      <td>0.089</td>\n",
       "      <td>0.005</td>\n",
       "      <td>0.289</td>\n",
       "    </tr>\n",
       "  </tbody>\n",
       "</table>\n",
       "<p>146 rows × 8 columns</p>\n",
       "</div>"
      ],
      "text/plain": [
       "         Country Happiness_score GDP per capita Social support  \\\n",
       "0        Finland           7.821          1.892          1.258   \n",
       "1        Denmark           7.636          1.953          1.243   \n",
       "2        Iceland           7.557          1.936          1.320   \n",
       "3    Switzerland           7.512          2.026          1.226   \n",
       "4    Netherlands           7.415          1.945          1.206   \n",
       "..           ...             ...            ...            ...   \n",
       "141    Botswana*           3.471          1.503          0.815   \n",
       "142      Rwanda*           3.268          0.785          0.133   \n",
       "143     Zimbabwe           2.995          0.947          0.690   \n",
       "144      Lebanon           2.955          1.392          0.498   \n",
       "145  Afghanistan           2.404          0.758          0.000   \n",
       "\n",
       "    Freedom to make life choices Generosity Perceptions of corruption  \\\n",
       "0                          0.736      0.109                     0.534   \n",
       "1                          0.719      0.188                     0.532   \n",
       "2                          0.718      0.270                     0.191   \n",
       "3                          0.677      0.147                     0.461   \n",
       "4                          0.651      0.271                     0.419   \n",
       "..                           ...        ...                       ...   \n",
       "141                        0.571      0.012                     0.102   \n",
       "142                        0.621      0.187                     0.544   \n",
       "143                        0.329      0.106                     0.105   \n",
       "144                        0.103      0.082                     0.034   \n",
       "145                        0.000      0.089                     0.005   \n",
       "\n",
       "    Healthy life expectancy  \n",
       "0                     0.775  \n",
       "1                     0.777  \n",
       "2                     0.803  \n",
       "3                     0.822  \n",
       "4                     0.787  \n",
       "..                      ...  \n",
       "141                   0.280  \n",
       "142                   0.462  \n",
       "143                   0.270  \n",
       "144                   0.631  \n",
       "145                   0.289  \n",
       "\n",
       "[146 rows x 8 columns]"
      ]
     },
     "execution_count": 41,
     "metadata": {},
     "output_type": "execute_result"
    }
   ],
   "source": [
    "final_df.dropna()"
   ]
  },
  {
   "cell_type": "code",
   "execution_count": 42,
   "id": "ff023cb3",
   "metadata": {},
   "outputs": [
    {
     "name": "stderr",
     "output_type": "stream",
     "text": [
      "C:\\Users\\gotim\\AppData\\Local\\Temp/ipykernel_14924/317225460.py:1: FutureWarning: Dropping of nuisance columns in DataFrame reductions (with 'numeric_only=None') is deprecated; in a future version this will raise TypeError.  Select only valid columns before calling the reduction.\n",
      "  final_df.replace(0.000,final_df.mean(axis=0),inplace=True)\n"
     ]
    }
   ],
   "source": [
    "final_df.replace(0.000,final_df.mean(axis=0),inplace=True)"
   ]
  },
  {
   "cell_type": "markdown",
   "id": "f4173180",
   "metadata": {},
   "source": [
    "## What are the datatypes?"
   ]
  },
  {
   "cell_type": "code",
   "execution_count": 43,
   "id": "8727d193",
   "metadata": {},
   "outputs": [
    {
     "data": {
      "text/plain": [
       "Country                         object\n",
       "Happiness_score                 object\n",
       "GDP per capita                  object\n",
       "Social support                  object\n",
       "Freedom to make life choices    object\n",
       "Generosity                      object\n",
       "Perceptions of corruption       object\n",
       "Healthy life expectancy         object\n",
       "dtype: object"
      ]
     },
     "execution_count": 43,
     "metadata": {},
     "output_type": "execute_result"
    }
   ],
   "source": [
    "final_df.dtypes"
   ]
  },
  {
   "cell_type": "markdown",
   "id": "4f30244e",
   "metadata": {},
   "source": [
    "## DataType Conversion"
   ]
  },
  {
   "cell_type": "code",
   "execution_count": 44,
   "id": "881a71c1",
   "metadata": {},
   "outputs": [],
   "source": [
    "final_df[['Happiness_score', 'GDP per capita', 'Social support', 'Freedom to make life choices','Generosity','Perceptions of corruption','Healthy life expectancy']] = final_df[['Happiness_score', 'GDP per capita', 'Social support','Freedom to make life choices','Generosity','Perceptions of corruption','Healthy life expectancy']].astype(float)"
   ]
  },
  {
   "cell_type": "code",
   "execution_count": 45,
   "id": "0857fa46",
   "metadata": {},
   "outputs": [
    {
     "data": {
      "text/plain": [
       "Country                          object\n",
       "Happiness_score                 float64\n",
       "GDP per capita                  float64\n",
       "Social support                  float64\n",
       "Freedom to make life choices    float64\n",
       "Generosity                      float64\n",
       "Perceptions of corruption       float64\n",
       "Healthy life expectancy         float64\n",
       "dtype: object"
      ]
     },
     "execution_count": 45,
     "metadata": {},
     "output_type": "execute_result"
    }
   ],
   "source": [
    "final_df.dtypes"
   ]
  },
  {
   "cell_type": "markdown",
   "id": "499cc2be",
   "metadata": {},
   "source": [
    "## What's the Range and Average Happiness Score for all the countries?"
   ]
  },
  {
   "cell_type": "code",
   "execution_count": 46,
   "id": "779665ff",
   "metadata": {},
   "outputs": [
    {
     "data": {
      "text/plain": [
       "7.821"
      ]
     },
     "execution_count": 46,
     "metadata": {},
     "output_type": "execute_result"
    }
   ],
   "source": [
    "final_df['Happiness_score'].max()"
   ]
  },
  {
   "cell_type": "code",
   "execution_count": 47,
   "id": "71124b3c",
   "metadata": {},
   "outputs": [
    {
     "data": {
      "text/plain": [
       "2.404"
      ]
     },
     "execution_count": 47,
     "metadata": {},
     "output_type": "execute_result"
    }
   ],
   "source": [
    "final_df['Happiness_score'].min()"
   ]
  },
  {
   "cell_type": "markdown",
   "id": "244a7c1a",
   "metadata": {},
   "source": [
    "The max and min values of Happiness Score are reasonable since all the scores range between 2 to 8"
   ]
  },
  {
   "cell_type": "code",
   "execution_count": 48,
   "id": "e489d359",
   "metadata": {},
   "outputs": [
    {
     "data": {
      "text/plain": [
       "5.55357534246575"
      ]
     },
     "execution_count": 48,
     "metadata": {},
     "output_type": "execute_result"
    }
   ],
   "source": [
    "final_df['Happiness_score'].mean()"
   ]
  },
  {
   "cell_type": "markdown",
   "id": "1e13c9bc",
   "metadata": {},
   "source": [
    "## Is there any correlation between the features?"
   ]
  },
  {
   "cell_type": "code",
   "execution_count": 49,
   "id": "06a3d090",
   "metadata": {},
   "outputs": [
    {
     "data": {
      "text/html": [
       "<div>\n",
       "<style scoped>\n",
       "    .dataframe tbody tr th:only-of-type {\n",
       "        vertical-align: middle;\n",
       "    }\n",
       "\n",
       "    .dataframe tbody tr th {\n",
       "        vertical-align: top;\n",
       "    }\n",
       "\n",
       "    .dataframe thead th {\n",
       "        text-align: right;\n",
       "    }\n",
       "</style>\n",
       "<table border=\"1\" class=\"dataframe\">\n",
       "  <thead>\n",
       "    <tr style=\"text-align: right;\">\n",
       "      <th></th>\n",
       "      <th>Happiness_score</th>\n",
       "      <th>GDP per capita</th>\n",
       "      <th>Social support</th>\n",
       "      <th>Freedom to make life choices</th>\n",
       "      <th>Generosity</th>\n",
       "      <th>Perceptions of corruption</th>\n",
       "      <th>Healthy life expectancy</th>\n",
       "    </tr>\n",
       "  </thead>\n",
       "  <tbody>\n",
       "    <tr>\n",
       "      <th>Happiness_score</th>\n",
       "      <td>1.000000</td>\n",
       "      <td>0.763677</td>\n",
       "      <td>0.777889</td>\n",
       "      <td>0.624822</td>\n",
       "      <td>0.063785</td>\n",
       "      <td>0.416216</td>\n",
       "      <td>0.740260</td>\n",
       "    </tr>\n",
       "    <tr>\n",
       "      <th>GDP per capita</th>\n",
       "      <td>0.763677</td>\n",
       "      <td>1.000000</td>\n",
       "      <td>0.722421</td>\n",
       "      <td>0.458591</td>\n",
       "      <td>-0.164472</td>\n",
       "      <td>0.377589</td>\n",
       "      <td>0.815386</td>\n",
       "    </tr>\n",
       "    <tr>\n",
       "      <th>Social support</th>\n",
       "      <td>0.777889</td>\n",
       "      <td>0.722421</td>\n",
       "      <td>1.000000</td>\n",
       "      <td>0.480466</td>\n",
       "      <td>-0.002339</td>\n",
       "      <td>0.223352</td>\n",
       "      <td>0.666760</td>\n",
       "    </tr>\n",
       "    <tr>\n",
       "      <th>Freedom to make life choices</th>\n",
       "      <td>0.624822</td>\n",
       "      <td>0.458591</td>\n",
       "      <td>0.480466</td>\n",
       "      <td>1.000000</td>\n",
       "      <td>0.176800</td>\n",
       "      <td>0.402474</td>\n",
       "      <td>0.433166</td>\n",
       "    </tr>\n",
       "    <tr>\n",
       "      <th>Generosity</th>\n",
       "      <td>0.063785</td>\n",
       "      <td>-0.164472</td>\n",
       "      <td>-0.002339</td>\n",
       "      <td>0.176800</td>\n",
       "      <td>1.000000</td>\n",
       "      <td>0.096107</td>\n",
       "      <td>-0.098133</td>\n",
       "    </tr>\n",
       "    <tr>\n",
       "      <th>Perceptions of corruption</th>\n",
       "      <td>0.416216</td>\n",
       "      <td>0.377589</td>\n",
       "      <td>0.223352</td>\n",
       "      <td>0.402474</td>\n",
       "      <td>0.096107</td>\n",
       "      <td>1.000000</td>\n",
       "      <td>0.362626</td>\n",
       "    </tr>\n",
       "    <tr>\n",
       "      <th>Healthy life expectancy</th>\n",
       "      <td>0.740260</td>\n",
       "      <td>0.815386</td>\n",
       "      <td>0.666760</td>\n",
       "      <td>0.433166</td>\n",
       "      <td>-0.098133</td>\n",
       "      <td>0.362626</td>\n",
       "      <td>1.000000</td>\n",
       "    </tr>\n",
       "  </tbody>\n",
       "</table>\n",
       "</div>"
      ],
      "text/plain": [
       "                              Happiness_score  GDP per capita  Social support  \\\n",
       "Happiness_score                      1.000000        0.763677        0.777889   \n",
       "GDP per capita                       0.763677        1.000000        0.722421   \n",
       "Social support                       0.777889        0.722421        1.000000   \n",
       "Freedom to make life choices         0.624822        0.458591        0.480466   \n",
       "Generosity                           0.063785       -0.164472       -0.002339   \n",
       "Perceptions of corruption            0.416216        0.377589        0.223352   \n",
       "Healthy life expectancy              0.740260        0.815386        0.666760   \n",
       "\n",
       "                              Freedom to make life choices  Generosity  \\\n",
       "Happiness_score                                   0.624822    0.063785   \n",
       "GDP per capita                                    0.458591   -0.164472   \n",
       "Social support                                    0.480466   -0.002339   \n",
       "Freedom to make life choices                      1.000000    0.176800   \n",
       "Generosity                                        0.176800    1.000000   \n",
       "Perceptions of corruption                         0.402474    0.096107   \n",
       "Healthy life expectancy                           0.433166   -0.098133   \n",
       "\n",
       "                              Perceptions of corruption  \\\n",
       "Happiness_score                                0.416216   \n",
       "GDP per capita                                 0.377589   \n",
       "Social support                                 0.223352   \n",
       "Freedom to make life choices                   0.402474   \n",
       "Generosity                                     0.096107   \n",
       "Perceptions of corruption                      1.000000   \n",
       "Healthy life expectancy                        0.362626   \n",
       "\n",
       "                              Healthy life expectancy  \n",
       "Happiness_score                              0.740260  \n",
       "GDP per capita                               0.815386  \n",
       "Social support                               0.666760  \n",
       "Freedom to make life choices                 0.433166  \n",
       "Generosity                                  -0.098133  \n",
       "Perceptions of corruption                    0.362626  \n",
       "Healthy life expectancy                      1.000000  "
      ]
     },
     "execution_count": 49,
     "metadata": {},
     "output_type": "execute_result"
    }
   ],
   "source": [
    "correlation = final_df.corr()\n",
    "correlation"
   ]
  },
  {
   "cell_type": "code",
   "execution_count": 50,
   "id": "ffd929c3",
   "metadata": {},
   "outputs": [
    {
     "data": {
      "text/plain": [
       "Happiness_score                 1.000000\n",
       "Social support                  0.777889\n",
       "GDP per capita                  0.763677\n",
       "Healthy life expectancy         0.740260\n",
       "Freedom to make life choices    0.624822\n",
       "Perceptions of corruption       0.416216\n",
       "Generosity                      0.063785\n",
       "Name: Happiness_score, dtype: float64"
      ]
     },
     "execution_count": 50,
     "metadata": {},
     "output_type": "execute_result"
    }
   ],
   "source": [
    "abs(correlation['Happiness_score'].sort_values(ascending=False))"
   ]
  },
  {
   "cell_type": "markdown",
   "id": "3cb8f3b8",
   "metadata": {},
   "source": [
    "A high correlation exists between GDP per capita, social support for happiness. I would use these three features to build regression models to predict the target Happiness Score of Each Country. GDP per capita cannot solely be used for the analysis, meaning high GDP per capita does not immediately translate to a higher happiness index. Therefore, besides income, there must be other important factors that contribute to people’s happiness besides money."
   ]
  },
  {
   "cell_type": "markdown",
   "id": "ad6555f9",
   "metadata": {},
   "source": [
    "## Which Country has the highest happiness score and Why?"
   ]
  },
  {
   "cell_type": "code",
   "execution_count": 51,
   "id": "6cbdd2c9",
   "metadata": {},
   "outputs": [
    {
     "data": {
      "text/html": [
       "<div>\n",
       "<style scoped>\n",
       "    .dataframe tbody tr th:only-of-type {\n",
       "        vertical-align: middle;\n",
       "    }\n",
       "\n",
       "    .dataframe tbody tr th {\n",
       "        vertical-align: top;\n",
       "    }\n",
       "\n",
       "    .dataframe thead th {\n",
       "        text-align: right;\n",
       "    }\n",
       "</style>\n",
       "<table border=\"1\" class=\"dataframe\">\n",
       "  <thead>\n",
       "    <tr style=\"text-align: right;\">\n",
       "      <th></th>\n",
       "      <th>Country</th>\n",
       "      <th>Happiness_score</th>\n",
       "      <th>GDP per capita</th>\n",
       "      <th>Social support</th>\n",
       "      <th>Freedom to make life choices</th>\n",
       "      <th>Generosity</th>\n",
       "      <th>Perceptions of corruption</th>\n",
       "      <th>Healthy life expectancy</th>\n",
       "    </tr>\n",
       "  </thead>\n",
       "  <tbody>\n",
       "    <tr>\n",
       "      <th>0</th>\n",
       "      <td>Finland</td>\n",
       "      <td>7.821</td>\n",
       "      <td>1.892</td>\n",
       "      <td>1.258</td>\n",
       "      <td>0.736</td>\n",
       "      <td>0.109</td>\n",
       "      <td>0.534</td>\n",
       "      <td>0.775</td>\n",
       "    </tr>\n",
       "  </tbody>\n",
       "</table>\n",
       "</div>"
      ],
      "text/plain": [
       "   Country  Happiness_score  GDP per capita  Social support  \\\n",
       "0  Finland            7.821           1.892           1.258   \n",
       "\n",
       "   Freedom to make life choices  Generosity  Perceptions of corruption  \\\n",
       "0                         0.736       0.109                      0.534   \n",
       "\n",
       "   Healthy life expectancy  \n",
       "0                    0.775  "
      ]
     },
     "execution_count": 51,
     "metadata": {},
     "output_type": "execute_result"
    }
   ],
   "source": [
    "final_df[final_df.Happiness_score == final_df.Happiness_score.max()]"
   ]
  },
  {
   "cell_type": "code",
   "execution_count": 52,
   "id": "20d7f87b",
   "metadata": {},
   "outputs": [
    {
     "data": {
      "text/html": [
       "<div>\n",
       "<style scoped>\n",
       "    .dataframe tbody tr th:only-of-type {\n",
       "        vertical-align: middle;\n",
       "    }\n",
       "\n",
       "    .dataframe tbody tr th {\n",
       "        vertical-align: top;\n",
       "    }\n",
       "\n",
       "    .dataframe thead th {\n",
       "        text-align: right;\n",
       "    }\n",
       "</style>\n",
       "<table border=\"1\" class=\"dataframe\">\n",
       "  <thead>\n",
       "    <tr style=\"text-align: right;\">\n",
       "      <th></th>\n",
       "      <th>Happiness_score</th>\n",
       "      <th>GDP per capita</th>\n",
       "      <th>Social support</th>\n",
       "      <th>Freedom to make life choices</th>\n",
       "      <th>Generosity</th>\n",
       "      <th>Perceptions of corruption</th>\n",
       "      <th>Healthy life expectancy</th>\n",
       "    </tr>\n",
       "  </thead>\n",
       "  <tbody>\n",
       "    <tr>\n",
       "      <th>count</th>\n",
       "      <td>146.000000</td>\n",
       "      <td>146.000000</td>\n",
       "      <td>146.000000</td>\n",
       "      <td>146.000000</td>\n",
       "      <td>146.000000</td>\n",
       "      <td>146.000000</td>\n",
       "      <td>146.000000</td>\n",
       "    </tr>\n",
       "    <tr>\n",
       "      <th>mean</th>\n",
       "      <td>5.553575</td>\n",
       "      <td>1.410445</td>\n",
       "      <td>0.905863</td>\n",
       "      <td>0.517226</td>\n",
       "      <td>0.147377</td>\n",
       "      <td>0.154781</td>\n",
       "      <td>0.586171</td>\n",
       "    </tr>\n",
       "    <tr>\n",
       "      <th>std</th>\n",
       "      <td>1.086843</td>\n",
       "      <td>0.421663</td>\n",
       "      <td>0.280122</td>\n",
       "      <td>0.145859</td>\n",
       "      <td>0.082799</td>\n",
       "      <td>0.127514</td>\n",
       "      <td>0.176336</td>\n",
       "    </tr>\n",
       "    <tr>\n",
       "      <th>min</th>\n",
       "      <td>2.404000</td>\n",
       "      <td>0.000000</td>\n",
       "      <td>0.000000</td>\n",
       "      <td>0.000000</td>\n",
       "      <td>0.000000</td>\n",
       "      <td>0.000000</td>\n",
       "      <td>0.000000</td>\n",
       "    </tr>\n",
       "    <tr>\n",
       "      <th>25%</th>\n",
       "      <td>4.888750</td>\n",
       "      <td>1.095500</td>\n",
       "      <td>0.732000</td>\n",
       "      <td>0.440500</td>\n",
       "      <td>0.089000</td>\n",
       "      <td>0.068250</td>\n",
       "      <td>0.463250</td>\n",
       "    </tr>\n",
       "    <tr>\n",
       "      <th>50%</th>\n",
       "      <td>5.568500</td>\n",
       "      <td>1.445500</td>\n",
       "      <td>0.957500</td>\n",
       "      <td>0.543500</td>\n",
       "      <td>0.132500</td>\n",
       "      <td>0.119500</td>\n",
       "      <td>0.621500</td>\n",
       "    </tr>\n",
       "    <tr>\n",
       "      <th>75%</th>\n",
       "      <td>6.305000</td>\n",
       "      <td>1.784750</td>\n",
       "      <td>1.114250</td>\n",
       "      <td>0.626000</td>\n",
       "      <td>0.197750</td>\n",
       "      <td>0.198500</td>\n",
       "      <td>0.719750</td>\n",
       "    </tr>\n",
       "    <tr>\n",
       "      <th>max</th>\n",
       "      <td>7.821000</td>\n",
       "      <td>2.209000</td>\n",
       "      <td>1.320000</td>\n",
       "      <td>0.740000</td>\n",
       "      <td>0.468000</td>\n",
       "      <td>0.587000</td>\n",
       "      <td>0.942000</td>\n",
       "    </tr>\n",
       "  </tbody>\n",
       "</table>\n",
       "</div>"
      ],
      "text/plain": [
       "       Happiness_score  GDP per capita  Social support  \\\n",
       "count       146.000000      146.000000      146.000000   \n",
       "mean          5.553575        1.410445        0.905863   \n",
       "std           1.086843        0.421663        0.280122   \n",
       "min           2.404000        0.000000        0.000000   \n",
       "25%           4.888750        1.095500        0.732000   \n",
       "50%           5.568500        1.445500        0.957500   \n",
       "75%           6.305000        1.784750        1.114250   \n",
       "max           7.821000        2.209000        1.320000   \n",
       "\n",
       "       Freedom to make life choices  Generosity  Perceptions of corruption  \\\n",
       "count                    146.000000  146.000000                 146.000000   \n",
       "mean                       0.517226    0.147377                   0.154781   \n",
       "std                        0.145859    0.082799                   0.127514   \n",
       "min                        0.000000    0.000000                   0.000000   \n",
       "25%                        0.440500    0.089000                   0.068250   \n",
       "50%                        0.543500    0.132500                   0.119500   \n",
       "75%                        0.626000    0.197750                   0.198500   \n",
       "max                        0.740000    0.468000                   0.587000   \n",
       "\n",
       "       Healthy life expectancy  \n",
       "count               146.000000  \n",
       "mean                  0.586171  \n",
       "std                   0.176336  \n",
       "min                   0.000000  \n",
       "25%                   0.463250  \n",
       "50%                   0.621500  \n",
       "75%                   0.719750  \n",
       "max                   0.942000  "
      ]
     },
     "execution_count": 52,
     "metadata": {},
     "output_type": "execute_result"
    }
   ],
   "source": [
    "final_df.describe()"
   ]
  },
  {
   "cell_type": "markdown",
   "id": "299ce437",
   "metadata": {},
   "source": [
    "According to the Happiness Index, Finland has the highest happiness score, 7.8. It is obvious from the maximum values across the columns that Finland has very high values when it comes to GDP per capita, Social Support, and Freedom to make life choices. It has a relatively low score for generosity. While this does not account for all of Finland's Happiness scores, it might explain why they are ranked highest."
   ]
  },
  {
   "cell_type": "code",
   "execution_count": 53,
   "id": "781146d5",
   "metadata": {},
   "outputs": [
    {
     "data": {
      "text/html": [
       "<div>\n",
       "<style scoped>\n",
       "    .dataframe tbody tr th:only-of-type {\n",
       "        vertical-align: middle;\n",
       "    }\n",
       "\n",
       "    .dataframe tbody tr th {\n",
       "        vertical-align: top;\n",
       "    }\n",
       "\n",
       "    .dataframe thead th {\n",
       "        text-align: right;\n",
       "    }\n",
       "</style>\n",
       "<table border=\"1\" class=\"dataframe\">\n",
       "  <thead>\n",
       "    <tr style=\"text-align: right;\">\n",
       "      <th></th>\n",
       "      <th>Happiness_score</th>\n",
       "      <th>GDP per capita</th>\n",
       "      <th>Social support</th>\n",
       "      <th>Freedom to make life choices</th>\n",
       "      <th>Generosity</th>\n",
       "      <th>Perceptions of corruption</th>\n",
       "      <th>Healthy life expectancy</th>\n",
       "    </tr>\n",
       "  </thead>\n",
       "  <tbody>\n",
       "    <tr>\n",
       "      <th>Happiness_score</th>\n",
       "      <td>1.000000</td>\n",
       "      <td>0.763677</td>\n",
       "      <td>0.777889</td>\n",
       "      <td>0.624822</td>\n",
       "      <td>0.063785</td>\n",
       "      <td>0.416216</td>\n",
       "      <td>0.740260</td>\n",
       "    </tr>\n",
       "    <tr>\n",
       "      <th>GDP per capita</th>\n",
       "      <td>0.763677</td>\n",
       "      <td>1.000000</td>\n",
       "      <td>0.722421</td>\n",
       "      <td>0.458591</td>\n",
       "      <td>-0.164472</td>\n",
       "      <td>0.377589</td>\n",
       "      <td>0.815386</td>\n",
       "    </tr>\n",
       "    <tr>\n",
       "      <th>Social support</th>\n",
       "      <td>0.777889</td>\n",
       "      <td>0.722421</td>\n",
       "      <td>1.000000</td>\n",
       "      <td>0.480466</td>\n",
       "      <td>-0.002339</td>\n",
       "      <td>0.223352</td>\n",
       "      <td>0.666760</td>\n",
       "    </tr>\n",
       "    <tr>\n",
       "      <th>Freedom to make life choices</th>\n",
       "      <td>0.624822</td>\n",
       "      <td>0.458591</td>\n",
       "      <td>0.480466</td>\n",
       "      <td>1.000000</td>\n",
       "      <td>0.176800</td>\n",
       "      <td>0.402474</td>\n",
       "      <td>0.433166</td>\n",
       "    </tr>\n",
       "    <tr>\n",
       "      <th>Generosity</th>\n",
       "      <td>0.063785</td>\n",
       "      <td>-0.164472</td>\n",
       "      <td>-0.002339</td>\n",
       "      <td>0.176800</td>\n",
       "      <td>1.000000</td>\n",
       "      <td>0.096107</td>\n",
       "      <td>-0.098133</td>\n",
       "    </tr>\n",
       "    <tr>\n",
       "      <th>Perceptions of corruption</th>\n",
       "      <td>0.416216</td>\n",
       "      <td>0.377589</td>\n",
       "      <td>0.223352</td>\n",
       "      <td>0.402474</td>\n",
       "      <td>0.096107</td>\n",
       "      <td>1.000000</td>\n",
       "      <td>0.362626</td>\n",
       "    </tr>\n",
       "    <tr>\n",
       "      <th>Healthy life expectancy</th>\n",
       "      <td>0.740260</td>\n",
       "      <td>0.815386</td>\n",
       "      <td>0.666760</td>\n",
       "      <td>0.433166</td>\n",
       "      <td>-0.098133</td>\n",
       "      <td>0.362626</td>\n",
       "      <td>1.000000</td>\n",
       "    </tr>\n",
       "  </tbody>\n",
       "</table>\n",
       "</div>"
      ],
      "text/plain": [
       "                              Happiness_score  GDP per capita  Social support  \\\n",
       "Happiness_score                      1.000000        0.763677        0.777889   \n",
       "GDP per capita                       0.763677        1.000000        0.722421   \n",
       "Social support                       0.777889        0.722421        1.000000   \n",
       "Freedom to make life choices         0.624822        0.458591        0.480466   \n",
       "Generosity                           0.063785       -0.164472       -0.002339   \n",
       "Perceptions of corruption            0.416216        0.377589        0.223352   \n",
       "Healthy life expectancy              0.740260        0.815386        0.666760   \n",
       "\n",
       "                              Freedom to make life choices  Generosity  \\\n",
       "Happiness_score                                   0.624822    0.063785   \n",
       "GDP per capita                                    0.458591   -0.164472   \n",
       "Social support                                    0.480466   -0.002339   \n",
       "Freedom to make life choices                      1.000000    0.176800   \n",
       "Generosity                                        0.176800    1.000000   \n",
       "Perceptions of corruption                         0.402474    0.096107   \n",
       "Healthy life expectancy                           0.433166   -0.098133   \n",
       "\n",
       "                              Perceptions of corruption  \\\n",
       "Happiness_score                                0.416216   \n",
       "GDP per capita                                 0.377589   \n",
       "Social support                                 0.223352   \n",
       "Freedom to make life choices                   0.402474   \n",
       "Generosity                                     0.096107   \n",
       "Perceptions of corruption                      1.000000   \n",
       "Healthy life expectancy                        0.362626   \n",
       "\n",
       "                              Healthy life expectancy  \n",
       "Happiness_score                              0.740260  \n",
       "GDP per capita                               0.815386  \n",
       "Social support                               0.666760  \n",
       "Freedom to make life choices                 0.433166  \n",
       "Generosity                                  -0.098133  \n",
       "Perceptions of corruption                    0.362626  \n",
       "Healthy life expectancy                      1.000000  "
      ]
     },
     "execution_count": 53,
     "metadata": {},
     "output_type": "execute_result"
    }
   ],
   "source": [
    "final_df.corr()"
   ]
  },
  {
   "cell_type": "code",
   "execution_count": 54,
   "id": "9d880b80",
   "metadata": {},
   "outputs": [
    {
     "data": {
      "text/plain": [
       "Text(0.5, 1.0, 'Correlations of Country Data Features')"
      ]
     },
     "execution_count": 54,
     "metadata": {},
     "output_type": "execute_result"
    },
    {
     "data": {
      "image/png": "[encoded data removed]",
      "text/plain": [
       "<Figure size 432x288 with 2 Axes>"
      ]
     },
     "metadata": {
      "needs_background": "light"
     },
     "output_type": "display_data"
    }
   ],
   "source": [
    "heatmap = sns.heatmap(final_df.corr(),vmin=-1, vmax=1, annot=True)\n",
    "heatmap.set_title('Correlations of Country Data Features', fontdict={'fontsize':12}, pad=12)"
   ]
  },
  {
   "cell_type": "markdown",
   "id": "b320d39f",
   "metadata": {},
   "source": [
    "Healthy Life Expectancy, Social support and GDP per capita are highly correlated with happiness scores. Similarly, freedom to make life choices is significantly correlated with happiness scores. These features may contribute more than other factors, but correlation does not imply causation. As a result, we can also determine which features to be dropped when we run a regression analysis on this data."
   ]
  },
  {
   "cell_type": "code",
   "execution_count": null,
   "id": "91491aae",
   "metadata": {},
   "outputs": [],
   "source": []
  },
  {
   "cell_type": "code",
   "execution_count": null,
   "id": "171f8838",
   "metadata": {},
   "outputs": [],
   "source": []
  }
 ],
 "metadata": {
  "kernelspec": {
   "display_name": "Python 3 (ipykernel)",
   "language": "python",
   "name": "python3"
  },
  "language_info": {
   "codemirror_mode": {
    "name": "ipython",
    "version": 3
   },
   "file_extension": ".py",
   "mimetype": "text/x-python",
   "name": "python",
   "nbconvert_exporter": "python",
   "pygments_lexer": "ipython3",
   "version": "3.9.7"
  }
 },
 "nbformat": 4,
 "nbformat_minor": 5
}
